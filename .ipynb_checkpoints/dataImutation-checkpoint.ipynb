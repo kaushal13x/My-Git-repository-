{
 "cells": [
  {
   "cell_type": "code",
   "execution_count": null,
   "id": "15cfce5b-ff4c-4c8f-86cb-380c18976a10",
   "metadata": {},
   "outputs": [],
   "source": [
    "\n",
    "import pandas as pd\n",
    "import numpy as np\n",
    "from sklearn.impute import SimpleImputer, KNNImputer\n",
    "from sklearn.experimental import enable_iterative_imputer\n",
    "from sklearn.impute import IterativeImputer\n",
    "\n",
    "# Load the dataset\n",
    "df_original = pd.read_csv(\"StressLevelDataset.csv\")  # Replace with your actual filename\n",
    "\n",
    "# Create a copy to simulate missing values\n",
    "df_missing = df_original.copy()\n",
    "\n",
    "# Introduce missing values randomly in a few columns for demonstration\n",
    "np.random.seed(42)\n",
    "for col in ['anxiety_level', 'self_esteem', 'depression']:\n",
    "    df_missing.loc[df_missing.sample(frac=0.2).index, col] = np.nan\n",
    "\n",
    "# 1. Mean Imputation\n",
    "mean_imputer = SimpleImputer(strategy='mean')\n",
    "df_mean_imputed = df_missing.copy()\n",
    "df_mean_imputed[['anxiety_level', 'self_esteem', 'depression']] = mean_imputer.fit_transform(\n",
    "    df_mean_imputed[['anxiety_level', 'self_esteem', 'depression']]\n",
    ")\n",
    "\n",
    "# 2. KNN Imputation\n",
    "knn_imputer = KNNImputer(n_neighbors=3)\n",
    "df_knn_imputed = df_missing.copy()\n",
    "df_knn_imputed[['anxiety_level', 'self_esteem', 'depression']] = knn_imputer.fit_transform(\n",
    "    df_knn_imputed[['anxiety_level', 'self_esteem', 'depression']]\n",
    ")\n",
    "\n",
    "# 3. MICE Imputation\n",
    "mice_imputer = IterativeImputer(random_state=0)\n",
    "df_mice_imputed = df_missing.copy()\n",
    "df_mice_imputed[['anxiety_level', 'self_esteem', 'depression']] = mice_imputer.fit_transform(\n",
    "    df_mice_imputed[['anxiety_level', 'self_esteem', 'depression']]\n",
    ")\n",
    "\n",
    "# Save the outputs\n",
    "df_missing.to_csv(\"simulated_missing_data.csv\", index=False)\n",
    "df_mean_imputed.to_csv(\"mean_imputed_data.csv\", index=False)\n",
    "df_knn_imputed.to_csv(\"knn_imputed_data.csv\", index=False)\n",
    "df_mice_imputed.to_csv(\"mice_imputed_data.csv\", index=False)\n",
    "\n",
    "print(\"Imputation completed. CSV files have been saved.\")\n"
   ]
  }
 ],
 "metadata": {
  "kernelspec": {
   "display_name": "Python 3 (ipykernel)",
   "language": "python",
   "name": "python3"
  },
  "language_info": {
   "codemirror_mode": {
    "name": "ipython",
    "version": 3
   },
   "file_extension": ".py",
   "mimetype": "text/x-python",
   "name": "python",
   "nbconvert_exporter": "python",
   "pygments_lexer": "ipython3",
   "version": "3.13.5"
  }
 },
 "nbformat": 4,
 "nbformat_minor": 5
}
